{
 "cells": [
  {
   "cell_type": "markdown",
   "id": "996a81bc",
   "metadata": {},
   "source": [
    "# TDA @ HSE, YSDA 2024\n",
    "\n",
    "## Homework 2"
   ]
  },
  {
   "cell_type": "markdown",
   "id": "c090f116",
   "metadata": {},
   "source": [
    "### Task 1\n",
    "#### Standard matrix reduction algorithm\n",
    "\n",
    "**(2 points)** Consider the matrix of a binary relation $\\mathbf{A}$. Construct the Dowker complexes $K$ and $L$ of $\\mathbf{A}$ by constructing their boundary matrices. For each of complexes, compute Betti numbers of dimensions $0$ and $1$ using a standard matrix reduction algorithm you have impelemented for solving the problem 2 from Leaf 5."
   ]
  },
  {
   "cell_type": "code",
   "execution_count": null,
   "id": "33e28ea8",
   "metadata": {},
   "outputs": [],
   "source": [
    "A = np.array()"
   ]
  },
  {
   "cell_type": "code",
   "execution_count": null,
   "id": "faa911b5",
   "metadata": {},
   "outputs": [],
   "source": [
    "# your code here"
   ]
  },
  {
   "cell_type": "markdown",
   "id": "cf11254d",
   "metadata": {},
   "source": [
    "### Task 2\n",
    "\n",
    "#### Higher-order Laplacian,  representatives of homology classes"
   ]
  },
  {
   "cell_type": "markdown",
   "id": "23b9fb26",
   "metadata": {},
   "source": [
    "**(1 point)** For the Dowker complexes $K$ and $L$ construct higher-order Laplacian matrices $\\mathbf{L}_0$ and $\\mathbf{L}_1$ using oriented boundary matrices using the definition on page 22 of Lecture 8. For each of complexes, compute Betti numbers of dimension $0$ and $1$ by their eigendecomposition, and plot eigenvalues of $\\mathbf{L}_0$ and $\\mathbf{L}_1$.\n",
    "\n",
    "**(1 point)** Localize several 1-dimensional homology classes of $K$ and $L$ by plotting the harmonic eigenvectors of $\\mathbf{L}_1$ over the edges of $K$ and $L$."
   ]
  },
  {
   "cell_type": "code",
   "execution_count": null,
   "id": "b5ffd1d0",
   "metadata": {},
   "outputs": [],
   "source": [
    "# your code here"
   ]
  },
  {
   "cell_type": "markdown",
   "id": "5bb376c1",
   "metadata": {},
   "source": [
    "### Task 3\n",
    "\n",
    "#### Simplicial network science"
   ]
  },
  {
   "cell_type": "markdown",
   "id": "0cc1e9ee",
   "metadata": {},
   "source": [
    "Consider the functional connectome dataset, consisting of Alzheimer decease-affected persons and control group matrices.\n",
    "\n",
    "**(1 point)** Compute the $k$-th Betti number curves of dimensions $0$ and $1$. Compute mean simplicial degrees and centralities curves introduces on Lecture 8 using the `simplicialx` library. For each patient groups, plot the means of obtained curves along with their confidence intervals.\n",
    "\n",
    "**(1 point)** For each of obtained curves, along with their union, solve the binary classification problem with 5-fold cross validation using classifiers from:\n",
    "- `sklearn` library,\n",
    "- MLP-Mixer model [https://arxiv.org/abs/2105.01601]."
   ]
  },
  {
   "cell_type": "code",
   "execution_count": null,
   "id": "92b23fe0",
   "metadata": {},
   "outputs": [],
   "source": [
    "# your code here"
   ]
  },
  {
   "cell_type": "markdown",
   "id": "054c6067",
   "metadata": {},
   "source": [
    "### Task 4\n",
    "\n",
    "#### Topological deep learning"
   ]
  },
  {
   "cell_type": "markdown",
   "id": "15c98bcf",
   "metadata": {},
   "source": [
    "**(1 point)** Train the transformer model with various architecture choices on the ORBIT5K benchmark dataset from Seminar 9, with 70/30 train/test split. Report the average and standard deviation of the best achieved performance over 5 runs. Conclude which architecture choices: a) bring most performance gain, b) allows for faster and more stable training.\n",
    "\n",
    "**(1 point)** Implement `torch.utils.data.DataLoader` class.\n",
    "- только $n_i$ самых устойчивых точек каждой из размерностей диаграммы,\n",
    "- семплирование $n_i$ точек каждой из размерности пропорционально функции от устойчивости (времени рождения, смерти, их комбинаций).\n",
    "\n",
    "**(1 point)** Implement 2 of out 5 attention mechanisms different from scaled dot-product self-attention:\n",
    "\n",
    "- L2 attention [https://arxiv.org/abs/2006.04710],\n",
    "- k-NN attention [https://arxiv.org/abs/2106.00515],\n",
    "- normalized attention [https://arxiv.org/abs/2005.09561],\n",
    "- double stochastic attention [https://arxiv.org/abs/2110.11773],\n",
    "- Wasserstein attention* [https://arxiv.org/abs/2201.06035].\n",
    "\n",
    "**(1 point)** показать график точности к добавлению Гауссовского шума к данным (график зависимости accuracy от величины шума, не менее 5 точек)."
   ]
  },
  {
   "cell_type": "code",
   "execution_count": null,
   "id": "e3c73a66",
   "metadata": {},
   "outputs": [],
   "source": [
    "# your code here"
   ]
  },
  {
   "cell_type": "markdown",
   "id": "d4585b59",
   "metadata": {},
   "source": [
    "### Notes\n",
    "\n",
    "- each task can be graded with zero, half or full point(s) depending on the quality of solution and reporting,\n",
    "- you can each an additional points by solving seminar problems."
   ]
  }
 ],
 "metadata": {
  "kernelspec": {
   "display_name": "Python 3 (ipykernel)",
   "language": "python",
   "name": "python3"
  },
  "language_info": {
   "codemirror_mode": {
    "name": "ipython",
    "version": 3
   },
   "file_extension": ".py",
   "mimetype": "text/x-python",
   "name": "python",
   "nbconvert_exporter": "python",
   "pygments_lexer": "ipython3",
   "version": "3.10.2"
  }
 },
 "nbformat": 4,
 "nbformat_minor": 5
}
