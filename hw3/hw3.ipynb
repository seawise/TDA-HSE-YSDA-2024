{
 "cells": [
  {
   "cell_type": "markdown",
   "id": "1788d57d",
   "metadata": {},
   "source": [
    "# TDA @ HSE, YSDA 2024\n",
    "\n",
    "## Homework 3"
   ]
  },
  {
   "cell_type": "markdown",
   "id": "242b7d6e",
   "metadata": {},
   "source": [
    "### Task 1\n",
    "#### Time series classification **(3 point)**\n",
    "\n",
    "Seversky et al. On time-series topological data analysis: New data and opportunities  \n",
    "_IEEE CVPR Workshops (2016)_\n",
    "\n",
    "- take the Seversky article, select a dataset (each has its own)\n",
    " - one-dimensional series\n",
    " - multidimensional series\n",
    "- calculate the optimal embedding dimension $d$ and delay $\\tau$ for the sample\n",
    "- solve everything as in the article, but take TX + DataLoader as a classifier\n",
    " - tune $d$ and $\\tau$"
   ]
  },
  {
   "cell_type": "code",
   "execution_count": null,
   "id": "061face0",
   "metadata": {},
   "outputs": [],
   "source": []
  },
  {
   "cell_type": "markdown",
   "id": "74ef6dc1",
   "metadata": {},
   "source": [
    "### Task 2\n",
    "\n",
    "#### Time series forecasting using visibility graph **(3 points)**\n",
    "\n",
    "Consider time series visibility graph. The task is to provide time series forecast using a diagram of the visibility graph as a feature.\n",
    "\n",
    "- consider the [example](https://giotto-ai.github.io/gtda-docs/0.5.1/notebooks/time_series_forecasting.html) from `giotto-tda` as the baseline,\n",
    "- use the diagram transformer and dataloader from HW2 as the model,\n",
    "- provide the experiments on time series from the [Autoformer](https://arxiv.org/pdf/2106.13008) paper."
   ]
  },
  {
   "cell_type": "code",
   "execution_count": null,
   "id": "c53ca8c6",
   "metadata": {},
   "outputs": [],
   "source": []
  },
  {
   "cell_type": "markdown",
   "id": "25d88ad5",
   "metadata": {},
   "source": [
    "### Task 3\n",
    "\n",
    "#### Simplicial complex neural networks **(4 points)**\n",
    "\n",
    "Consider simplicial complex-valued contact networks datasets:\n",
    "- primary school, https://www.cs.cornell.edu/~arb/data/contact-primary-school-labeled/,\n",
    "- high school, https://www.cs.cornell.edu/~arb/data/contact-high-school-labeled/.\n",
    "\n",
    "and a clique complex of the graph-valued [c.elegance connectome](/data/c.elegans_sym.csv).\n",
    "\n",
    "Task is to classify vertices using two of the following methods:\n",
    "- transformer with positional embeddings computed via SimplicialX library,\n",
    "- simplicial neural networks,\n",
    "- topology-enhanced graph neural networks,\n",
    "- random walks embeddings, CRaWL paper.\n",
    "\n",
    "You can also take any `sklearn` classifier using SimplicialX features as the baseline."
   ]
  },
  {
   "cell_type": "code",
   "execution_count": null,
   "id": "e5a91cd8",
   "metadata": {},
   "outputs": [],
   "source": []
  }
 ],
 "metadata": {
  "kernelspec": {
   "display_name": "Python 3 (ipykernel)",
   "language": "python",
   "name": "python3"
  },
  "language_info": {
   "codemirror_mode": {
    "name": "ipython",
    "version": 3
   },
   "file_extension": ".py",
   "mimetype": "text/x-python",
   "name": "python",
   "nbconvert_exporter": "python",
   "pygments_lexer": "ipython3",
   "version": "3.10.2"
  }
 },
 "nbformat": 4,
 "nbformat_minor": 5
}
