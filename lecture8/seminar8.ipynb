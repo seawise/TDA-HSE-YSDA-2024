{
 "cells": [
  {
   "cell_type": "code",
   "execution_count": 1,
   "id": "3cca6e7c",
   "metadata": {},
   "outputs": [
    {
     "name": "stdout",
     "output_type": "stream",
     "text": [
      "Simplicial fixed for Python 3\n"
     ]
    }
   ],
   "source": [
    "from __future__ import print_function\n",
    "\n",
    "%matplotlib inline\n",
    "import matplotlib.pyplot as plt\n",
    "\n",
    "import numpy as np\n",
    "import networkx as nx\n",
    "\n",
    "import simplicial\n",
    "import simplicial.drawing\n",
    "\n",
    "from simplicialx.simplicial import SimplicialComplex"
   ]
  },
  {
   "cell_type": "markdown",
   "id": "703e30c6",
   "metadata": {},
   "source": [
    "## Simplicial complexes\n",
    "\n",
    "An (abstract) simplicial complex $K$ on a finite set $V$ (called a vertex set) is the family of subsets $\\sigma = \\{v_0, \\dots, v_k\\}$ of $V$ closed under inclusion. That is, for every $\\sigma \\in K$ any of its subset $\\tau \\subseteq \\sigma$ is also in $K$."
   ]
  },
  {
   "cell_type": "code",
   "execution_count": 2,
   "id": "4599787a",
   "metadata": {},
   "outputs": [],
   "source": [
    "# create simplicial complex\n",
    "cmplx = simplicial.SimplicialComplex()"
   ]
  },
  {
   "cell_type": "code",
   "execution_count": 3,
   "id": "e199495d",
   "metadata": {},
   "outputs": [],
   "source": [
    "# add 0-simplices (vertices)\n",
    "v1 = cmplx.addSimplex(id=\"v1\")\n",
    "v2 = cmplx.addSimplex(id=\"v2\")\n",
    "v3 = cmplx.addSimplex(id=\"v3\")\n",
    "v4 = cmplx.addSimplex(id=\"v4\")\n",
    "v5 = cmplx.addSimplex(id=\"v5\")\n",
    "v6 = cmplx.addSimplex(id=\"v6\")\n",
    "v7 = cmplx.addSimplex(id=\"v7\")"
   ]
  },
  {
   "cell_type": "code",
   "execution_count": 4,
   "id": "b0056ad0",
   "metadata": {},
   "outputs": [
    {
     "data": {
      "text/plain": [
       "'e6'"
      ]
     },
     "execution_count": 4,
     "metadata": {},
     "output_type": "execute_result"
    }
   ],
   "source": [
    "# add 1-simplices (edges)\n",
    "cmplx.addSimplex(['v2', 'v3'], id=\"e1\")\n",
    "cmplx.addSimplex(['v4', 'v5'], id=\"e2\")\n",
    "cmplx.addSimplex(['v4', 'v6'], id=\"e3\")\n",
    "cmplx.addSimplex(['v5', 'v6'], id=\"e4\")\n",
    "cmplx.addSimplex(['v5', 'v7'], id=\"e5\")\n",
    "cmplx.addSimplex(['v6', 'v7'], id=\"e6\")"
   ]
  },
  {
   "cell_type": "code",
   "execution_count": 5,
   "id": "951457d0",
   "metadata": {},
   "outputs": [
    {
     "data": {
      "image/png": "[encoded data removed]",
      "text/plain": [
       "<Figure size 432x432 with 1 Axes>"
      ]
     },
     "metadata": {},
     "output_type": "display_data"
    }
   ],
   "source": [
    "# set coordinates for vertices\n",
    "em = simplicial.Embedding(cmplx)\n",
    "em.positionSimplex(v1, (0.0, 0.5))\n",
    "\n",
    "em.positionSimplex(v2, (0.25, 1.0))\n",
    "em.positionSimplex(v3, (0.25, 0.0))\n",
    "\n",
    "em.positionSimplex(v4, (1.0, 1.0))\n",
    "em.positionSimplex(v5, (0.5, 0.66))\n",
    "em.positionSimplex(v6, (1.0, 0.33))\n",
    "em.positionSimplex(v7, (0.5, 0.0))\n",
    "\n",
    "# draw simplicial complex\n",
    "fig = plt.figure(figsize=(6,6))\n",
    "plt.title(\"Geometric realization of simplicial complex\")\n",
    "simplicial.drawing.draw_complex(cmplx, em)"
   ]
  },
  {
   "cell_type": "markdown",
   "id": "0136cd6e",
   "metadata": {},
   "source": [
    "### Betti numbers\n",
    "\n",
    "_K-th Betti number_ of topological space is the rank of its' associated _k-th homological group_ and describes the number of holes of dimension $k+1$.\n",
    "\n",
    "- 1-dimensional holes (b_0) are connected components\n",
    "- 2-dimensional holes (b_1) are loops\n",
    "- 3-dimensional holes (b_2) are voids"
   ]
  },
  {
   "cell_type": "markdown",
   "id": "ba09cd3c",
   "metadata": {},
   "source": [
    "**Exercise**\n",
    "\n",
    "Evaluate the dimensionality and non-vanishing Betti numbers of a simplicial complex"
   ]
  },
  {
   "cell_type": "code",
   "execution_count": 6,
   "id": "91d19576",
   "metadata": {},
   "outputs": [],
   "source": [
    "# evaluate complex dimension\n",
    "dim = cmplx.maxOrder()\n",
    "\n",
    "# evaluate Betti numbers\n",
    "betti = cmplx.bettiNumbers()"
   ]
  },
  {
   "cell_type": "code",
   "execution_count": 7,
   "id": "941d1436",
   "metadata": {},
   "outputs": [
    {
     "name": "stdout",
     "output_type": "stream",
     "text": [
      "Dimension of complex: 1\n",
      "Betti-0: 3\n",
      "Betti-1: 2\n"
     ]
    }
   ],
   "source": [
    "print(\"Dimension of complex: {}\".format(dim))\n",
    "for key in betti:\n",
    "    if key <= dim:\n",
    "        print(\"Betti-{}: {}\".format(str(key), betti[key]))"
   ]
  },
  {
   "cell_type": "markdown",
   "id": "5a370462",
   "metadata": {},
   "source": [
    "### Modifying the topology of the simplicial complex\n",
    "\n",
    "**Exercise**\n",
    "\n",
    "Modify the topology of the simplicial complex by \"filling\" one of its' 2-dimensional holes by a 2-simplex which is a triangle."
   ]
  },
  {
   "cell_type": "code",
   "execution_count": 8,
   "id": "b39cbb98",
   "metadata": {},
   "outputs": [
    {
     "data": {
      "text/plain": [
       "'t1'"
      ]
     },
     "execution_count": 8,
     "metadata": {},
     "output_type": "execute_result"
    }
   ],
   "source": [
    "# add 2-simplex (triangle)\n",
    "cmplx.addSimplex(['e2', 'e3', 'e4'], id=\"t1\")"
   ]
  },
  {
   "cell_type": "code",
   "execution_count": 9,
   "id": "6b859f20",
   "metadata": {},
   "outputs": [
    {
     "data": {
      "image/png": "[encoded data removed]",
      "text/plain": [
       "<Figure size 432x432 with 1 Axes>"
      ]
     },
     "metadata": {},
     "output_type": "display_data"
    }
   ],
   "source": [
    "# draw simplicial complex\n",
    "fig = plt.figure(figsize=(6,6))\n",
    "plt.title(\"Geometric realization of simplicial complex\")\n",
    "simplicial.drawing.draw_complex(cmplx, em)"
   ]
  },
  {
   "cell_type": "code",
   "execution_count": 10,
   "id": "0d46b61e",
   "metadata": {},
   "outputs": [],
   "source": [
    "# evaluate complex dimension\n",
    "dim = cmplx.maxOrder()\n",
    "\n",
    "# evaluate Betti numbers\n",
    "betti = cmplx.bettiNumbers()"
   ]
  },
  {
   "cell_type": "code",
   "execution_count": 11,
   "id": "3e43361d",
   "metadata": {},
   "outputs": [
    {
     "name": "stdout",
     "output_type": "stream",
     "text": [
      "Dimension of complex: 2\n",
      "Betti-0: 3\n",
      "Betti-1: 1\n",
      "Betti-2: 0\n"
     ]
    }
   ],
   "source": [
    "print(\"Dimension of complex: {}\".format(dim))\n",
    "for key in betti:\n",
    "    if key <= dim:\n",
    "        print(\"Betti-{}: {}\".format(str(key), betti[key]))"
   ]
  },
  {
   "cell_type": "markdown",
   "id": "0ce12ece",
   "metadata": {},
   "source": [
    "### SimplicialX"
   ]
  },
  {
   "cell_type": "markdown",
   "id": "fdb61647",
   "metadata": {},
   "source": [
    "#### Create complex to a complex"
   ]
  },
  {
   "cell_type": "code",
   "execution_count": 13,
   "id": "97ba8432",
   "metadata": {},
   "outputs": [
    {
     "data": {
      "text/plain": [
       "[]"
      ]
     },
     "execution_count": 13,
     "metadata": {},
     "output_type": "execute_result"
    }
   ],
   "source": [
    "K_butterfly = SimplicialComplex()\n",
    "K_butterfly.simplices"
   ]
  },
  {
   "cell_type": "markdown",
   "id": "0a69c920",
   "metadata": {},
   "source": [
    "#### Add simplices"
   ]
  },
  {
   "cell_type": "code",
   "execution_count": 14,
   "id": "23d4b564",
   "metadata": {},
   "outputs": [
    {
     "data": {
      "text/plain": [
       "[array([[1],\n",
       "        [2],\n",
       "        [3]]),\n",
       " array([[1, 2],\n",
       "        [1, 3],\n",
       "        [2, 3]]),\n",
       " array([[1, 2, 3]])]"
      ]
     },
     "execution_count": 14,
     "metadata": {},
     "output_type": "execute_result"
    }
   ],
   "source": [
    "K_butterfly.add(np.array([1, 2, 3]))\n",
    "K_butterfly.simplices"
   ]
  },
  {
   "cell_type": "markdown",
   "id": "def1120c",
   "metadata": {},
   "source": [
    "It is also acceptable to submit simplex as a python list or tuple:"
   ]
  },
  {
   "cell_type": "code",
   "execution_count": 15,
   "id": "5a37b0de",
   "metadata": {},
   "outputs": [
    {
     "data": {
      "text/plain": [
       "[array([[1],\n",
       "        [2],\n",
       "        [3],\n",
       "        [4],\n",
       "        [5]]),\n",
       " array([[1, 2],\n",
       "        [1, 3],\n",
       "        [2, 3],\n",
       "        [3, 4],\n",
       "        [3, 5],\n",
       "        [4, 5]]),\n",
       " array([[1, 2, 3]])]"
      ]
     },
     "execution_count": 15,
     "metadata": {},
     "output_type": "execute_result"
    }
   ],
   "source": [
    "K_butterfly.add((3, 4))\n",
    "K_butterfly.add([3, 5])\n",
    "K_butterfly.add([4, 5])\n",
    "K_butterfly.simplices"
   ]
  },
  {
   "cell_type": "markdown",
   "id": "b9b1a484",
   "metadata": {},
   "source": [
    "#### Degree\n",
    "\n",
    "Two $k$-simplices $\\sigma_i$ and $\\sigma_j$ are lower adjacent, denoted by $\\sigma_i \\smile \\sigma_j$, if they share a common facet. Two $k$-simplices $\\sigma_i$ and $\\sigma_j$ are upper adjacent, denoted by $\\sigma_i \\frown \\sigma_j$, if they share a common cofacet.\n",
    "\n",
    "A lower degree of a $k$-simplex is the number of facets, i.e. $(k-1)$-simplicies, it is lower adjacent to\n",
    "\n",
    "\\begin{equation}\n",
    "\\mathrm{deg}_{\\smile}(\\sigma) = \\#\\{ \\tau \\in K \\mid \\sigma \\smile \\tau,~\\tau \\subseteq \\sigma,~\\mathrm{dim}(\\tau) = \\mathrm{dim}(\\sigma) - 1 \\}.\n",
    "\\end{equation}\n",
    "\n",
    "An upper degree of a $k$-simplex is the number of cofacets, i.e. $(k+1)$-simplicies, it is upper adjacent to\n",
    "\n",
    "\\begin{equation}\n",
    "    \\mathrm{deg}_{\\frown}(\\sigma) = \\#\\{ \\rho \\in K \\mid \\sigma \\frown \\rho,~\\sigma \\subseteq \\rho,~\\mathrm{dim}(\\rho) = \\mathrm{dim}(\\sigma) + 1 \\}.\n",
    "\\end{equation}"
   ]
  },
  {
   "cell_type": "code",
   "execution_count": 17,
   "id": "ee0941f5",
   "metadata": {},
   "outputs": [
    {
     "data": {
      "text/plain": [
       "array([2., 2., 4., 2., 2.])"
      ]
     },
     "execution_count": 17,
     "metadata": {},
     "output_type": "execute_result"
    }
   ],
   "source": [
    "K_butterfly.incidence(k=1, p=1) # node-edge incidence"
   ]
  },
  {
   "cell_type": "code",
   "execution_count": 18,
   "id": "bb961822",
   "metadata": {},
   "outputs": [
    {
     "data": {
      "text/plain": [
       "array([1., 1., 1., 0., 0.])"
      ]
     },
     "execution_count": 18,
     "metadata": {},
     "output_type": "execute_result"
    }
   ],
   "source": [
    "K_butterfly.incidence(k=2, p=2) # node-triangle incidence"
   ]
  },
  {
   "cell_type": "code",
   "execution_count": 19,
   "id": "aa538030",
   "metadata": {},
   "outputs": [
    {
     "data": {
      "text/plain": [
       "array([1., 1., 1., 0., 0., 0.])"
      ]
     },
     "execution_count": 19,
     "metadata": {},
     "output_type": "execute_result"
    }
   ],
   "source": [
    "K_butterfly.incidence(k=2, p=1) # edge-triangle incidence"
   ]
  },
  {
   "cell_type": "markdown",
   "id": "eaa02796",
   "metadata": {},
   "source": [
    "#### Adjacency"
   ]
  },
  {
   "cell_type": "code",
   "execution_count": 20,
   "id": "9ae3439f",
   "metadata": {},
   "outputs": [
    {
     "data": {
      "text/plain": [
       "array([2., 2., 4., 2., 2.])"
      ]
     },
     "execution_count": 20,
     "metadata": {},
     "output_type": "execute_result"
    }
   ],
   "source": [
    "K_butterfly.degree(k=1, p=1) # node-edge degree"
   ]
  },
  {
   "cell_type": "markdown",
   "id": "f895e524",
   "metadata": {},
   "source": [
    "#### Removing simplex from a complex"
   ]
  },
  {
   "cell_type": "code",
   "execution_count": 22,
   "id": "ef0760e6",
   "metadata": {},
   "outputs": [
    {
     "data": {
      "text/plain": [
       "[array([[1],\n",
       "        [2],\n",
       "        [3],\n",
       "        [4],\n",
       "        [5]]),\n",
       " array([[1, 3],\n",
       "        [2, 3],\n",
       "        [3, 4],\n",
       "        [3, 5],\n",
       "        [4, 5]])]"
      ]
     },
     "execution_count": 22,
     "metadata": {},
     "output_type": "execute_result"
    }
   ],
   "source": [
    "K_butterfly.remove([1, 2])\n",
    "K_butterfly.simplices"
   ]
  },
  {
   "cell_type": "markdown",
   "id": "cf9fc046",
   "metadata": {},
   "source": [
    "### Simplicial complex of a graph"
   ]
  },
  {
   "cell_type": "code",
   "execution_count": 23,
   "id": "12402a27",
   "metadata": {},
   "outputs": [],
   "source": [
    "G = nx.karate_club_graph()"
   ]
  },
  {
   "cell_type": "code",
   "execution_count": 24,
   "id": "bc977f01",
   "metadata": {},
   "outputs": [
    {
     "data": {
      "image/png": "[encoded data removed]",
      "text/plain": [
       "<Figure size 360x360 with 1 Axes>"
      ]
     },
     "metadata": {},
     "output_type": "display_data"
    }
   ],
   "source": [
    "plt.figure(figsize=(5,5))\n",
    "nx.draw_circular(G, with_labels=True)\n",
    "plt.show()"
   ]
  },
  {
   "cell_type": "code",
   "execution_count": 28,
   "id": "aa45dc0a",
   "metadata": {},
   "outputs": [],
   "source": [
    "K = SimplicialComplex.from_graph(G, kind=\"clique\", n_skeleton=4)\n",
    "K_skeleton1 = SimplicialComplex.from_graph(G, kind=\"clique\", n_skeleton=2)"
   ]
  },
  {
   "cell_type": "code",
   "execution_count": 29,
   "id": "58e7f6fc",
   "metadata": {},
   "outputs": [
    {
     "data": {
      "text/plain": [
       "[array([[ 0],\n",
       "        [ 1],\n",
       "        [ 2],\n",
       "        [ 3],\n",
       "        [ 4],\n",
       "        [ 5],\n",
       "        [ 6],\n",
       "        [ 7],\n",
       "        [ 8],\n",
       "        [ 9],\n",
       "        [10],\n",
       "        [11],\n",
       "        [12],\n",
       "        [13],\n",
       "        [14],\n",
       "        [15],\n",
       "        [16],\n",
       "        [17],\n",
       "        [18],\n",
       "        [19],\n",
       "        [20],\n",
       "        [21],\n",
       "        [22],\n",
       "        [23],\n",
       "        [24],\n",
       "        [25],\n",
       "        [26],\n",
       "        [27],\n",
       "        [28],\n",
       "        [29],\n",
       "        [30],\n",
       "        [31],\n",
       "        [32],\n",
       "        [33]]),\n",
       " array([[ 0,  1],\n",
       "        [ 0,  2],\n",
       "        [ 0,  3],\n",
       "        [ 0,  4],\n",
       "        [ 0,  5],\n",
       "        [ 0,  6],\n",
       "        [ 0,  7],\n",
       "        [ 0,  8],\n",
       "        [ 0, 10],\n",
       "        [ 0, 11],\n",
       "        [ 0, 12],\n",
       "        [ 0, 13],\n",
       "        [ 0, 17],\n",
       "        [ 0, 19],\n",
       "        [ 0, 21],\n",
       "        [ 0, 31],\n",
       "        [ 1,  2],\n",
       "        [ 1,  3],\n",
       "        [ 1,  7],\n",
       "        [ 1, 13],\n",
       "        [ 1, 17],\n",
       "        [ 1, 19],\n",
       "        [ 1, 21],\n",
       "        [ 1, 30],\n",
       "        [ 2,  3],\n",
       "        [ 2,  7],\n",
       "        [ 2,  8],\n",
       "        [ 2,  9],\n",
       "        [ 2, 13],\n",
       "        [ 2, 27],\n",
       "        [ 2, 28],\n",
       "        [ 2, 32],\n",
       "        [ 3,  7],\n",
       "        [ 3, 12],\n",
       "        [ 3, 13],\n",
       "        [ 4,  6],\n",
       "        [ 4, 10],\n",
       "        [ 5,  6],\n",
       "        [ 5, 10],\n",
       "        [ 5, 16],\n",
       "        [ 6, 16],\n",
       "        [ 8, 30],\n",
       "        [ 8, 32],\n",
       "        [ 8, 33],\n",
       "        [ 9, 33],\n",
       "        [13, 33],\n",
       "        [14, 32],\n",
       "        [14, 33],\n",
       "        [15, 32],\n",
       "        [15, 33],\n",
       "        [18, 32],\n",
       "        [18, 33],\n",
       "        [19, 33],\n",
       "        [20, 32],\n",
       "        [20, 33],\n",
       "        [22, 32],\n",
       "        [22, 33],\n",
       "        [23, 25],\n",
       "        [23, 27],\n",
       "        [23, 29],\n",
       "        [23, 32],\n",
       "        [23, 33],\n",
       "        [24, 25],\n",
       "        [24, 27],\n",
       "        [24, 31],\n",
       "        [25, 31],\n",
       "        [26, 29],\n",
       "        [26, 33],\n",
       "        [27, 33],\n",
       "        [28, 31],\n",
       "        [28, 33],\n",
       "        [29, 32],\n",
       "        [29, 33],\n",
       "        [30, 32],\n",
       "        [30, 33],\n",
       "        [31, 32],\n",
       "        [31, 33],\n",
       "        [32, 33]]),\n",
       " array([[ 0,  1,  2],\n",
       "        [ 0,  1,  3],\n",
       "        [ 0,  1,  7],\n",
       "        [ 0,  1, 13],\n",
       "        [ 0,  1, 17],\n",
       "        [ 0,  1, 19],\n",
       "        [ 0,  1, 21],\n",
       "        [ 0,  2,  3],\n",
       "        [ 0,  2,  7],\n",
       "        [ 0,  2,  8],\n",
       "        [ 0,  2, 13],\n",
       "        [ 0,  3,  7],\n",
       "        [ 0,  3, 12],\n",
       "        [ 0,  3, 13],\n",
       "        [ 0,  4,  6],\n",
       "        [ 0,  4, 10],\n",
       "        [ 0,  5,  6],\n",
       "        [ 0,  5, 10],\n",
       "        [ 1,  2,  3],\n",
       "        [ 1,  2,  7],\n",
       "        [ 1,  2, 13],\n",
       "        [ 1,  3,  7],\n",
       "        [ 1,  3, 13],\n",
       "        [ 2,  3,  7],\n",
       "        [ 2,  3, 13],\n",
       "        [ 2,  8, 32],\n",
       "        [ 5,  6, 16],\n",
       "        [ 8, 30, 32],\n",
       "        [ 8, 30, 33],\n",
       "        [ 8, 32, 33],\n",
       "        [14, 32, 33],\n",
       "        [15, 32, 33],\n",
       "        [18, 32, 33],\n",
       "        [20, 32, 33],\n",
       "        [22, 32, 33],\n",
       "        [23, 27, 33],\n",
       "        [23, 29, 32],\n",
       "        [23, 29, 33],\n",
       "        [23, 32, 33],\n",
       "        [24, 25, 31],\n",
       "        [26, 29, 33],\n",
       "        [28, 31, 33],\n",
       "        [29, 32, 33],\n",
       "        [30, 32, 33],\n",
       "        [31, 32, 33]]),\n",
       " array([[ 0,  1,  2,  3],\n",
       "        [ 0,  1,  2,  7],\n",
       "        [ 0,  1,  2, 13],\n",
       "        [ 0,  1,  3,  7],\n",
       "        [ 0,  1,  3, 13],\n",
       "        [ 0,  2,  3,  7],\n",
       "        [ 0,  2,  3, 13],\n",
       "        [ 1,  2,  3,  7],\n",
       "        [ 1,  2,  3, 13],\n",
       "        [ 8, 30, 32, 33],\n",
       "        [23, 29, 32, 33]]),\n",
       " array([[ 0,  1,  2,  3,  7],\n",
       "        [ 0,  1,  2,  3, 13]])]"
      ]
     },
     "execution_count": 29,
     "metadata": {},
     "output_type": "execute_result"
    }
   ],
   "source": [
    "K.simplices"
   ]
  },
  {
   "cell_type": "code",
   "execution_count": 30,
   "id": "e67b4c25",
   "metadata": {},
   "outputs": [
    {
     "data": {
      "text/plain": [
       "[array([[ 0],\n",
       "        [ 1],\n",
       "        [ 2],\n",
       "        [ 3],\n",
       "        [ 4],\n",
       "        [ 5],\n",
       "        [ 6],\n",
       "        [ 7],\n",
       "        [ 8],\n",
       "        [ 9],\n",
       "        [10],\n",
       "        [11],\n",
       "        [12],\n",
       "        [13],\n",
       "        [14],\n",
       "        [15],\n",
       "        [16],\n",
       "        [17],\n",
       "        [18],\n",
       "        [19],\n",
       "        [20],\n",
       "        [21],\n",
       "        [22],\n",
       "        [23],\n",
       "        [24],\n",
       "        [25],\n",
       "        [26],\n",
       "        [27],\n",
       "        [28],\n",
       "        [29],\n",
       "        [30],\n",
       "        [31],\n",
       "        [32],\n",
       "        [33]]),\n",
       " array([[ 0,  1],\n",
       "        [ 0,  2],\n",
       "        [ 0,  3],\n",
       "        [ 0,  4],\n",
       "        [ 0,  5],\n",
       "        [ 0,  6],\n",
       "        [ 0,  7],\n",
       "        [ 0,  8],\n",
       "        [ 0, 10],\n",
       "        [ 0, 11],\n",
       "        [ 0, 12],\n",
       "        [ 0, 13],\n",
       "        [ 0, 17],\n",
       "        [ 0, 19],\n",
       "        [ 0, 21],\n",
       "        [ 0, 31],\n",
       "        [ 1,  2],\n",
       "        [ 1,  3],\n",
       "        [ 1,  7],\n",
       "        [ 1, 13],\n",
       "        [ 1, 17],\n",
       "        [ 1, 19],\n",
       "        [ 1, 21],\n",
       "        [ 1, 30],\n",
       "        [ 2,  3],\n",
       "        [ 2,  7],\n",
       "        [ 2,  8],\n",
       "        [ 2,  9],\n",
       "        [ 2, 13],\n",
       "        [ 2, 27],\n",
       "        [ 2, 28],\n",
       "        [ 2, 32],\n",
       "        [ 3,  7],\n",
       "        [ 3, 12],\n",
       "        [ 3, 13],\n",
       "        [ 4,  6],\n",
       "        [ 4, 10],\n",
       "        [ 5,  6],\n",
       "        [ 5, 10],\n",
       "        [ 5, 16],\n",
       "        [ 6, 16],\n",
       "        [ 8, 30],\n",
       "        [ 8, 32],\n",
       "        [ 8, 33],\n",
       "        [ 9, 33],\n",
       "        [13, 33],\n",
       "        [14, 32],\n",
       "        [14, 33],\n",
       "        [15, 32],\n",
       "        [15, 33],\n",
       "        [18, 32],\n",
       "        [18, 33],\n",
       "        [19, 33],\n",
       "        [20, 32],\n",
       "        [20, 33],\n",
       "        [22, 32],\n",
       "        [22, 33],\n",
       "        [23, 25],\n",
       "        [23, 27],\n",
       "        [23, 29],\n",
       "        [23, 32],\n",
       "        [23, 33],\n",
       "        [24, 25],\n",
       "        [24, 27],\n",
       "        [24, 31],\n",
       "        [25, 31],\n",
       "        [26, 29],\n",
       "        [26, 33],\n",
       "        [27, 33],\n",
       "        [28, 31],\n",
       "        [28, 33],\n",
       "        [29, 32],\n",
       "        [29, 33],\n",
       "        [30, 32],\n",
       "        [30, 33],\n",
       "        [31, 32],\n",
       "        [31, 33],\n",
       "        [32, 33]]),\n",
       " array([[ 0,  1,  2],\n",
       "        [ 0,  1,  3],\n",
       "        [ 0,  1,  7],\n",
       "        [ 0,  1, 13],\n",
       "        [ 0,  1, 17],\n",
       "        [ 0,  1, 19],\n",
       "        [ 0,  1, 21],\n",
       "        [ 0,  2,  3],\n",
       "        [ 0,  2,  7],\n",
       "        [ 0,  2,  8],\n",
       "        [ 0,  2, 13],\n",
       "        [ 0,  3,  7],\n",
       "        [ 0,  3, 12],\n",
       "        [ 0,  3, 13],\n",
       "        [ 0,  4,  6],\n",
       "        [ 0,  4, 10],\n",
       "        [ 0,  5,  6],\n",
       "        [ 0,  5, 10],\n",
       "        [ 1,  2,  3],\n",
       "        [ 1,  2,  7],\n",
       "        [ 1,  2, 13],\n",
       "        [ 1,  3,  7],\n",
       "        [ 1,  3, 13],\n",
       "        [ 2,  3,  7],\n",
       "        [ 2,  3, 13],\n",
       "        [ 2,  8, 32],\n",
       "        [ 5,  6, 16],\n",
       "        [ 8, 30, 32],\n",
       "        [ 8, 30, 33],\n",
       "        [ 8, 32, 33],\n",
       "        [14, 32, 33],\n",
       "        [15, 32, 33],\n",
       "        [18, 32, 33],\n",
       "        [20, 32, 33],\n",
       "        [22, 32, 33],\n",
       "        [23, 27, 33],\n",
       "        [23, 29, 32],\n",
       "        [23, 29, 33],\n",
       "        [23, 32, 33],\n",
       "        [24, 25, 31],\n",
       "        [26, 29, 33],\n",
       "        [28, 31, 33],\n",
       "        [29, 32, 33],\n",
       "        [30, 32, 33],\n",
       "        [31, 32, 33]])]"
      ]
     },
     "execution_count": 30,
     "metadata": {},
     "output_type": "execute_result"
    }
   ],
   "source": [
    "K_skeleton1.simplices"
   ]
  },
  {
   "cell_type": "markdown",
   "id": "7dceafa4",
   "metadata": {},
   "source": [
    "#### Dimension"
   ]
  },
  {
   "cell_type": "code",
   "execution_count": 31,
   "id": "52448954",
   "metadata": {},
   "outputs": [
    {
     "data": {
      "text/plain": [
       "4"
      ]
     },
     "execution_count": 31,
     "metadata": {},
     "output_type": "execute_result"
    }
   ],
   "source": [
    "K.dim"
   ]
  },
  {
   "cell_type": "markdown",
   "id": "6f97657f",
   "metadata": {},
   "source": [
    "#### F-vector"
   ]
  },
  {
   "cell_type": "code",
   "execution_count": 32,
   "id": "74321ec7",
   "metadata": {},
   "outputs": [
    {
     "data": {
      "text/plain": [
       "array([34, 78, 45, 11,  2])"
      ]
     },
     "execution_count": 32,
     "metadata": {},
     "output_type": "execute_result"
    }
   ],
   "source": [
    "K.f_vector"
   ]
  },
  {
   "cell_type": "code",
   "execution_count": 33,
   "id": "6cebe3c6",
   "metadata": {},
   "outputs": [
    {
     "data": {
      "text/plain": [
       "170"
      ]
     },
     "execution_count": 33,
     "metadata": {},
     "output_type": "execute_result"
    }
   ],
   "source": [
    "len(K)"
   ]
  },
  {
   "cell_type": "markdown",
   "id": "9f83f477",
   "metadata": {},
   "source": [
    "#### Euler characteristic"
   ]
  },
  {
   "cell_type": "code",
   "execution_count": 35,
   "id": "f8a62cf4",
   "metadata": {},
   "outputs": [
    {
     "data": {
      "text/plain": [
       "-8"
      ]
     },
     "execution_count": 35,
     "metadata": {},
     "output_type": "execute_result"
    }
   ],
   "source": [
    "K.euler_characteristic"
   ]
  },
  {
   "cell_type": "markdown",
   "id": "62ce410d",
   "metadata": {},
   "source": [
    "#### Betti numbers"
   ]
  },
  {
   "cell_type": "code",
   "execution_count": 34,
   "id": "2218b797",
   "metadata": {},
   "outputs": [
    {
     "data": {
      "text/plain": [
       "array([1., 9., 0., 0., 0.])"
      ]
     },
     "execution_count": 34,
     "metadata": {},
     "output_type": "execute_result"
    }
   ],
   "source": [
    "K.betti()"
   ]
  },
  {
   "cell_type": "markdown",
   "id": "d0c8a816",
   "metadata": {},
   "source": [
    "#### Degree"
   ]
  },
  {
   "cell_type": "code",
   "execution_count": 36,
   "id": "1fd0fb2f",
   "metadata": {},
   "outputs": [
    {
     "data": {
      "text/plain": [
       "array([16.,  9., 10.,  6.,  3.,  4.,  4.,  4.,  5.,  2.,  3.,  1.,  2.,\n",
       "        5.,  2.,  2.,  2.,  2.,  2.,  3.,  2.,  2.,  2.,  5.,  3.,  3.,\n",
       "        2.,  4.,  3.,  4.,  4.,  6., 12., 17.])"
      ]
     },
     "execution_count": 36,
     "metadata": {},
     "output_type": "execute_result"
    }
   ],
   "source": [
    "K.simplex_degree(k=1, p=1) # node-edge"
   ]
  },
  {
   "cell_type": "code",
   "execution_count": 37,
   "id": "be755b3e",
   "metadata": {},
   "outputs": [
    {
     "data": {
      "text/plain": [
       "array([18., 12., 11., 10.,  2.,  3.,  3.,  6.,  5.,  0.,  2.,  0.,  1.,\n",
       "        6.,  1.,  1.,  1.,  1.,  1.,  1.,  1.,  1.,  1.,  4.,  1.,  1.,\n",
       "        1.,  1.,  1.,  4.,  3.,  3., 13., 15.])"
      ]
     },
     "execution_count": 37,
     "metadata": {},
     "output_type": "execute_result"
    }
   ],
   "source": [
    "K.simplex_degree(k=2, p=2) # node-triangle"
   ]
  },
  {
   "cell_type": "code",
   "execution_count": 38,
   "id": "868871c1",
   "metadata": {},
   "outputs": [
    {
     "data": {
      "text/plain": [
       "array([ 7.,  5.,  5.,  2.,  2.,  2.,  3.,  1.,  2.,  0.,  1.,  3.,  1.,\n",
       "        1.,  1.,  0.,  4.,  4.,  3.,  3.,  1.,  1.,  1.,  0.,  4.,  3.,\n",
       "        2.,  0.,  3.,  0.,  0.,  1.,  3.,  1.,  3.,  1.,  1.,  2.,  1.,\n",
       "        1.,  1.,  2.,  3.,  2.,  0.,  0.,  1.,  1.,  1.,  1.,  1.,  1.,\n",
       "        0.,  1.,  1.,  1.,  1.,  0.,  1.,  2.,  2.,  3.,  1.,  0.,  1.,\n",
       "        1.,  1.,  1.,  1.,  1.,  1.,  2.,  3.,  2.,  2.,  1.,  2., 10.])"
      ]
     },
     "execution_count": 38,
     "metadata": {},
     "output_type": "execute_result"
    }
   ],
   "source": [
    "K.simplex_degree(k=2, p=1) # edge-triangle"
   ]
  },
  {
   "cell_type": "markdown",
   "id": "95c1ee05",
   "metadata": {},
   "source": [
    "#### Adjacency"
   ]
  },
  {
   "cell_type": "code",
   "execution_count": 39,
   "id": "ed3ab2c2",
   "metadata": {},
   "outputs": [
    {
     "data": {
      "text/plain": [
       "array([16.,  9., 10.,  6.,  3.,  4.,  4.,  4.,  5.,  2.,  3.,  1.,  2.,\n",
       "        5.,  2.,  2.,  2.,  2.,  2.,  3.,  2.,  2.,  2.,  5.,  3.,  3.,\n",
       "        2.,  4.,  3.,  4.,  4.,  6., 12., 17.])"
      ]
     },
     "execution_count": 39,
     "metadata": {},
     "output_type": "execute_result"
    }
   ],
   "source": [
    "K.simplex_adjacency_n(k=1, p=1) # node-edge adjacency"
   ]
  },
  {
   "cell_type": "code",
   "execution_count": 40,
   "id": "0107cd63",
   "metadata": {},
   "outputs": [
    {
     "data": {
      "text/plain": [
       "array([14.,  8.,  7.,  6.,  3.,  4.,  4.,  4.,  5.,  0.,  3.,  0.,  2.,\n",
       "        4.,  2.,  2.,  2.,  2.,  2.,  2.,  2.,  2.,  2.,  4.,  2.,  2.,\n",
       "        2.,  2.,  2.,  4.,  3.,  5., 12., 14.])"
      ]
     },
     "execution_count": 40,
     "metadata": {},
     "output_type": "execute_result"
    }
   ],
   "source": [
    "K.simplex_adjacency_n(k=2, p=2) # node-triangle adjacency"
   ]
  },
  {
   "cell_type": "code",
   "execution_count": 41,
   "id": "9d4fe746",
   "metadata": {},
   "outputs": [
    {
     "data": {
      "text/plain": [
       "array([14., 10., 10.,  4.,  4.,  4.,  6.,  2.,  4.,  0.,  2.,  6.,  2.,\n",
       "        2.,  2.,  0.,  8.,  8.,  6.,  6.,  2.,  2.,  2.,  0.,  8.,  6.,\n",
       "        4.,  0.,  6.,  0.,  0.,  2.,  6.,  2.,  6.,  2.,  2.,  4.,  2.,\n",
       "        2.,  2.,  4.,  6.,  4.,  0.,  0.,  2.,  2.,  2.,  2.,  2.,  2.,\n",
       "        0.,  2.,  2.,  2.,  2.,  0.,  2.,  4.,  4.,  6.,  2.,  0.,  2.,\n",
       "        2.,  2.,  2.,  2.,  2.,  2.,  4.,  6.,  4.,  4.,  2.,  4., 20.])"
      ]
     },
     "execution_count": 41,
     "metadata": {},
     "output_type": "execute_result"
    }
   ],
   "source": [
    "K.simplex_adjacency_n(k=2, p=1) # edge-triangle adjacency"
   ]
  },
  {
   "cell_type": "markdown",
   "id": "46c2c172",
   "metadata": {},
   "source": [
    "#### Closeness centrality"
   ]
  },
  {
   "cell_type": "code",
   "execution_count": 42,
   "id": "a36bf7d4",
   "metadata": {},
   "outputs": [
    {
     "data": {
      "text/plain": [
       "{(0,): 0.5689655172413793,\n",
       " (1,): 0.4852941176470588,\n",
       " (2,): 0.559322033898305,\n",
       " (3,): 0.4647887323943662,\n",
       " (4,): 0.3793103448275862,\n",
       " (5,): 0.38372093023255816,\n",
       " (6,): 0.38372093023255816,\n",
       " (7,): 0.44,\n",
       " (8,): 0.515625,\n",
       " (10,): 0.3793103448275862,\n",
       " (11,): 0.36666666666666664,\n",
       " (12,): 0.3707865168539326,\n",
       " (13,): 0.515625,\n",
       " (17,): 0.375,\n",
       " (19,): 0.5,\n",
       " (21,): 0.375,\n",
       " (31,): 0.5409836065573771,\n",
       " (30,): 0.4583333333333333,\n",
       " (9,): 0.4342105263157895,\n",
       " (27,): 0.4583333333333333,\n",
       " (28,): 0.4520547945205479,\n",
       " (32,): 0.515625,\n",
       " (16,): 0.28448275862068967,\n",
       " (33,): 0.55,\n",
       " (14,): 0.3707865168539326,\n",
       " (15,): 0.3707865168539326,\n",
       " (18,): 0.3707865168539326,\n",
       " (20,): 0.3707865168539326,\n",
       " (22,): 0.3707865168539326,\n",
       " (23,): 0.39285714285714285,\n",
       " (25,): 0.375,\n",
       " (29,): 0.38372093023255816,\n",
       " (24,): 0.375,\n",
       " (26,): 0.3626373626373626}"
      ]
     },
     "execution_count": 42,
     "metadata": {},
     "output_type": "execute_result"
    }
   ],
   "source": [
    "K.simplex_closeness_centrality(p=0, q=1) # node-edge closeness"
   ]
  },
  {
   "cell_type": "code",
   "execution_count": 43,
   "id": "4b1ca355",
   "metadata": {},
   "outputs": [
    {
     "data": {
      "text/plain": [
       "{(0,): 0.49206349206349204,\n",
       " (1,): 0.40789473684210525,\n",
       " (2,): 0.5,\n",
       " (3,): 0.3974358974358974,\n",
       " (4,): 0.34444444444444444,\n",
       " (5,): 0.34831460674157305,\n",
       " (6,): 0.34831460674157305,\n",
       " (7,): 0.3875,\n",
       " (8,): 0.5166666666666667,\n",
       " (10,): 0.34444444444444444,\n",
       " (12,): 0.33695652173913043,\n",
       " (13,): 0.3875,\n",
       " (17,): 0.33695652173913043,\n",
       " (19,): 0.33695652173913043,\n",
       " (21,): 0.33695652173913043,\n",
       " (32,): 0.5081967213114754,\n",
       " (16,): 0.26495726495726496,\n",
       " (30,): 0.3875,\n",
       " (33,): 0.4696969696969697,\n",
       " (14,): 0.36046511627906974,\n",
       " (15,): 0.36046511627906974,\n",
       " (18,): 0.36046511627906974,\n",
       " (20,): 0.36046511627906974,\n",
       " (22,): 0.36046511627906974,\n",
       " (23,): 0.32978723404255317,\n",
       " (27,): 0.3263157894736842,\n",
       " (29,): 0.36904761904761907,\n",
       " (24,): 0.2719298245614035,\n",
       " (25,): 0.2719298245614035,\n",
       " (31,): 0.36470588235294116,\n",
       " (26,): 0.3263157894736842,\n",
       " (28,): 0.34444444444444444}"
      ]
     },
     "execution_count": 43,
     "metadata": {},
     "output_type": "execute_result"
    }
   ],
   "source": [
    "K.simplex_closeness_centrality(p=0, q=2) # node-triangle closeness"
   ]
  },
  {
   "cell_type": "markdown",
   "id": "2f3db6af",
   "metadata": {},
   "source": [
    "#### Betweeneess centrality"
   ]
  },
  {
   "cell_type": "code",
   "execution_count": 44,
   "id": "125bb72c",
   "metadata": {},
   "outputs": [
    {
     "data": {
      "text/plain": [
       "{(0,): 0.4376352813852815,\n",
       " (1,): 0.05393668831168831,\n",
       " (2,): 0.14365680615680615,\n",
       " (3,): 0.011909271284271283,\n",
       " (4,): 0.0006313131313131313,\n",
       " (5,): 0.02998737373737374,\n",
       " (6,): 0.029987373737373736,\n",
       " (7,): 0.0,\n",
       " (8,): 0.05592682780182782,\n",
       " (10,): 0.0006313131313131313,\n",
       " (11,): 0.0,\n",
       " (12,): 0.0,\n",
       " (13,): 0.045863395863395856,\n",
       " (17,): 0.0,\n",
       " (19,): 0.03247504810004811,\n",
       " (21,): 0.0,\n",
       " (31,): 0.13827561327561327,\n",
       " (30,): 0.014411976911976905,\n",
       " (9,): 0.0008477633477633478,\n",
       " (27,): 0.022333453583453587,\n",
       " (28,): 0.0017947330447330447,\n",
       " (32,): 0.14524711399711404,\n",
       " (16,): 0.0,\n",
       " (33,): 0.30407497594997596,\n",
       " (14,): 0.0,\n",
       " (15,): 0.0,\n",
       " (18,): 0.0,\n",
       " (20,): 0.0,\n",
       " (22,): 0.0,\n",
       " (23,): 0.017613636363636363,\n",
       " (25,): 0.0038404882154882162,\n",
       " (29,): 0.0029220779220779218,\n",
       " (24,): 0.0022095959595959595,\n",
       " (26,): 0.0}"
      ]
     },
     "execution_count": 44,
     "metadata": {},
     "output_type": "execute_result"
    }
   ],
   "source": [
    "K.simplex_betweenness_centrality(p=0, q=1) # node-edge betweenness"
   ]
  },
  {
   "cell_type": "code",
   "execution_count": 47,
   "id": "82b75637",
   "metadata": {},
   "outputs": [
    {
     "data": {
      "text/plain": [
       "{(0, 1): 0.15135975135975138,\n",
       " (0, 2): 0.3184926184926185,\n",
       " (0, 3): 0.06324786324786326,\n",
       " (0, 7): 0.010023310023310023,\n",
       " (0, 13): 0.010023310023310023,\n",
       " (0, 17): 0.0,\n",
       " (0, 19): 0.0,\n",
       " (0, 21): 0.0,\n",
       " (1, 2): 0.015695415695415698,\n",
       " (1, 3): 0.0052059052059052055,\n",
       " (1, 7): 0.002097902097902098,\n",
       " (1, 13): 0.002097902097902098,\n",
       " (1, 17): 0.0,\n",
       " (1, 19): 0.0,\n",
       " (1, 21): 0.0,\n",
       " (0, 8): 0.0,\n",
       " (2, 3): 0.014296814296814297,\n",
       " (2, 7): 0.008158508158508158,\n",
       " (2, 8): 0.32167832167832167,\n",
       " (2, 13): 0.008158508158508158,\n",
       " (0, 12): 0.0,\n",
       " (3, 7): 0.0011655011655011655,\n",
       " (3, 12): 0.0,\n",
       " (3, 13): 0.0011655011655011655,\n",
       " (0, 4): 0.002564102564102564,\n",
       " (0, 6): 0.0044289044289044285,\n",
       " (0, 10): 0.002564102564102564,\n",
       " (4, 6): 0.0,\n",
       " (4, 10): 0.0,\n",
       " (0, 5): 0.0044289044289044285,\n",
       " (5, 6): 0.006526806526806527,\n",
       " (5, 10): 0.0,\n",
       " (2, 32): 0.0,\n",
       " (8, 32): 0.32925407925407923,\n",
       " (5, 16): 0.0,\n",
       " (6, 16): 0.0,\n",
       " (8, 30): 0.0031468531468531466,\n",
       " (8, 33): 0.005827505827505828,\n",
       " (30, 32): 0.005827505827505828,\n",
       " (30, 33): 0.002913752913752914,\n",
       " (32, 33): 0.42156177156177155,\n",
       " (14, 32): 0.0,\n",
       " (14, 33): 0.0,\n",
       " (15, 32): 0.0,\n",
       " (15, 33): 0.0,\n",
       " (18, 32): 0.0,\n",
       " (18, 33): 0.0,\n",
       " (20, 32): 0.0,\n",
       " (20, 33): 0.0,\n",
       " (22, 32): 0.0,\n",
       " (22, 33): 0.0,\n",
       " (23, 27): 0.0,\n",
       " (23, 33): 0.05314685314685315,\n",
       " (27, 33): 0.0,\n",
       " (23, 29): 0.0006993006993006993,\n",
       " (23, 32): 0.005594405594405594,\n",
       " (29, 32): 0.005594405594405594,\n",
       " (29, 33): 0.05314685314685315,\n",
       " (24, 25): 0.0,\n",
       " (24, 31): 0.0,\n",
       " (25, 31): 0.0,\n",
       " (26, 29): 0.0,\n",
       " (26, 33): 0.0,\n",
       " (28, 31): 0.0,\n",
       " (28, 33): 0.0,\n",
       " (31, 33): 0.04755244755244755,\n",
       " (31, 32): 0.0}"
      ]
     },
     "execution_count": 47,
     "metadata": {},
     "output_type": "execute_result"
    }
   ],
   "source": [
    "K.simplex_betweenness_centrality(p=1, q=2) # edge-node betweenness"
   ]
  },
  {
   "cell_type": "markdown",
   "id": "9a1c5d48",
   "metadata": {},
   "source": [
    "### Simplicial complex of a relation\n",
    "\n",
    "Left Dowker complex for a relation $R$ on a sets $X,Y$ is called the simplicial complex $L$, with the vertex set given by $X$, having simplices $\\sigma = \\{x_0, x_1, \\dots, x_n \\} \\in R(x_i, x)$ for some $x$. Right Dowker complex for a relation $R$, , with the vertex set given by X, is the simplicial complex $K$, $σ = \\{y_0, y_1, . . . , y_n \\} \\in R(x, y_i)$."
   ]
  },
  {
   "cell_type": "code",
   "execution_count": 68,
   "id": "f21c3d92",
   "metadata": {},
   "outputs": [],
   "source": [
    "R = np.array([\n",
    "    [0, 1, 1, 0, 0, 0, 0, 0, 0],\n",
    "    [1, 0, 0, 0, 0, 0, 0, 0, 0],\n",
    "    [0, 0, 0, 0, 0, 1, 1, 0, 0],\n",
    "    [0, 0, 0, 0, 1, 1, 0, 0, 0],\n",
    "    [0, 0, 0, 0, 0, 1, 0, 0, 0],\n",
    "    [1, 1, 1, 0, 0, 0, 0, 0, 0],\n",
    "    [0, 0, 1, 0, 1, 0, 1, 0, 0],\n",
    "    [0, 0, 1, 1, 1, 0, 0, 0, 0],\n",
    "    [0, 1, 1, 1, 1, 0, 0, 0, 0],\n",
    "    [0, 0, 0, 0, 0, 0, 0, 1, 0],\n",
    "    [0, 0, 0, 1, 0, 0, 0, 0, 0],\n",
    "    [0, 0, 0, 0, 0, 0, 0, 0, 1]\n",
    "])\n",
    "\n",
    "actors_rows = [\n",
    "    \"Bale, Christian\",\n",
    "    \"Carrey, Jim\",\n",
    "    \"Day-Levis, Daniel\",\n",
    "    \"Di Caprio, Leonardo\",\n",
    "    \"Diaz, Cameron\",\n",
    "    \"Freeman, Morgan\",\n",
    "    \"Gordon-Levitt, Joseph\",\n",
    "    \"Hardy, Tom\",\n",
    "    \"Murphy, Cillian\",\n",
    "    \"Pitt, Brad\",\n",
    "    \"Styles, Harry\",\n",
    "    \"Winslet, Kate\"\n",
    "]\n",
    "\n",
    "films_columns = [\n",
    "    \"Bruce Almighty\",\n",
    "    \"Dark Knight\",\n",
    "    \"Dark Knight Rises\",\n",
    "    \"Dunkirk\",\n",
    "    \"Inception\",\n",
    "    \"Gangs of New York\",\n",
    "    \"Lincoln\",\n",
    "    \"Once in Hollywood\",\n",
    "    \"Titanic\"\n",
    "]"
   ]
  },
  {
   "cell_type": "markdown",
   "id": "2043267d",
   "metadata": {},
   "source": [
    "#### Excercise\n",
    "\n",
    "Create row and column Dowker complexes. Compute its' characteristics presented before. What is the most between-central vertex by edges and by triangles?"
   ]
  },
  {
   "cell_type": "code",
   "execution_count": 90,
   "id": "8fa466d4",
   "metadata": {},
   "outputs": [],
   "source": [
    "D_row = SimplicialComplex()\n",
    "\n",
    "for i, row in enumerate(R):\n",
    "    sigma = np.nonzero(row)[0]\n",
    "    D_row.add(sigma)"
   ]
  },
  {
   "cell_type": "code",
   "execution_count": 112,
   "id": "b93504c9",
   "metadata": {},
   "outputs": [
    {
     "data": {
      "text/plain": [
       "[array([[0],\n",
       "        [1],\n",
       "        [2],\n",
       "        [3],\n",
       "        [4],\n",
       "        [5],\n",
       "        [6],\n",
       "        [7],\n",
       "        [8]]),\n",
       " array([[0, 1],\n",
       "        [0, 2],\n",
       "        [1, 2],\n",
       "        [1, 3],\n",
       "        [1, 4],\n",
       "        [2, 3],\n",
       "        [2, 4],\n",
       "        [2, 6],\n",
       "        [3, 4],\n",
       "        [4, 5],\n",
       "        [4, 6],\n",
       "        [5, 6]]),\n",
       " array([[0, 1, 2],\n",
       "        [1, 2, 3],\n",
       "        [1, 2, 4],\n",
       "        [1, 3, 4],\n",
       "        [2, 3, 4],\n",
       "        [2, 4, 6]]),\n",
       " array([[1, 2, 3, 4]])]"
      ]
     },
     "execution_count": 112,
     "metadata": {},
     "output_type": "execute_result"
    }
   ],
   "source": [
    "D_row.simplices"
   ]
  },
  {
   "cell_type": "code",
   "execution_count": 113,
   "id": "44f17f94",
   "metadata": {},
   "outputs": [],
   "source": [
    "D_row.remove([2,4,6])"
   ]
  },
  {
   "cell_type": "code",
   "execution_count": 114,
   "id": "7ee630d8",
   "metadata": {},
   "outputs": [
    {
     "data": {
      "text/plain": [
       "[array([[0],\n",
       "        [1],\n",
       "        [2],\n",
       "        [3],\n",
       "        [4],\n",
       "        [5],\n",
       "        [6],\n",
       "        [7],\n",
       "        [8]]),\n",
       " array([[0, 1],\n",
       "        [0, 2],\n",
       "        [1, 2],\n",
       "        [1, 3],\n",
       "        [1, 4],\n",
       "        [2, 3],\n",
       "        [2, 4],\n",
       "        [2, 6],\n",
       "        [3, 4],\n",
       "        [4, 5],\n",
       "        [4, 6],\n",
       "        [5, 6]]),\n",
       " array([[0, 1, 2],\n",
       "        [1, 2, 3],\n",
       "        [1, 2, 4],\n",
       "        [1, 3, 4],\n",
       "        [2, 3, 4]]),\n",
       " array([[1, 2, 3, 4]])]"
      ]
     },
     "execution_count": 114,
     "metadata": {},
     "output_type": "execute_result"
    }
   ],
   "source": [
    "D_row.simplices"
   ]
  },
  {
   "cell_type": "code",
   "execution_count": 94,
   "id": "80b2d17a",
   "metadata": {},
   "outputs": [
    {
     "data": {
      "text/plain": [
       "28"
      ]
     },
     "execution_count": 94,
     "metadata": {},
     "output_type": "execute_result"
    }
   ],
   "source": [
    "len(D_row)"
   ]
  },
  {
   "cell_type": "code",
   "execution_count": 102,
   "id": "1d88709c",
   "metadata": {},
   "outputs": [
    {
     "data": {
      "text/plain": [
       "array([3., 1., 0., 0.])"
      ]
     },
     "execution_count": 102,
     "metadata": {},
     "output_type": "execute_result"
    }
   ],
   "source": [
    "D_row.betti()"
   ]
  },
  {
   "cell_type": "code",
   "execution_count": null,
   "id": "f6dc9a4c",
   "metadata": {},
   "outputs": [],
   "source": [
    "D_col.euler_characteristic"
   ]
  },
  {
   "cell_type": "code",
   "execution_count": 92,
   "id": "d6999129",
   "metadata": {},
   "outputs": [],
   "source": [
    "D_col = SimplicialComplex()\n",
    "\n",
    "for j, column in enumerate(R.T):\n",
    "    sigma = np.nonzero(column)[0]\n",
    "    D_col.add(sigma)"
   ]
  },
  {
   "cell_type": "code",
   "execution_count": 93,
   "id": "692abae9",
   "metadata": {},
   "outputs": [
    {
     "data": {
      "text/plain": [
       "[array([[ 0],\n",
       "        [ 1],\n",
       "        [ 2],\n",
       "        [ 3],\n",
       "        [ 4],\n",
       "        [ 5],\n",
       "        [ 6],\n",
       "        [ 7],\n",
       "        [ 8],\n",
       "        [ 9],\n",
       "        [10],\n",
       "        [11]]),\n",
       " array([[ 0,  5],\n",
       "        [ 0,  6],\n",
       "        [ 0,  7],\n",
       "        [ 0,  8],\n",
       "        [ 1,  5],\n",
       "        [ 2,  3],\n",
       "        [ 2,  4],\n",
       "        [ 2,  6],\n",
       "        [ 3,  4],\n",
       "        [ 3,  6],\n",
       "        [ 3,  7],\n",
       "        [ 3,  8],\n",
       "        [ 5,  6],\n",
       "        [ 5,  7],\n",
       "        [ 5,  8],\n",
       "        [ 6,  7],\n",
       "        [ 6,  8],\n",
       "        [ 7,  8],\n",
       "        [ 7, 10],\n",
       "        [ 8, 10]]),\n",
       " array([[ 0,  5,  6],\n",
       "        [ 0,  5,  7],\n",
       "        [ 0,  5,  8],\n",
       "        [ 0,  6,  7],\n",
       "        [ 0,  6,  8],\n",
       "        [ 0,  7,  8],\n",
       "        [ 2,  3,  4],\n",
       "        [ 3,  6,  7],\n",
       "        [ 3,  6,  8],\n",
       "        [ 3,  7,  8],\n",
       "        [ 5,  6,  7],\n",
       "        [ 5,  6,  8],\n",
       "        [ 5,  7,  8],\n",
       "        [ 6,  7,  8],\n",
       "        [ 7,  8, 10]]),\n",
       " array([[0, 5, 6, 7],\n",
       "        [0, 5, 6, 8],\n",
       "        [0, 5, 7, 8],\n",
       "        [0, 6, 7, 8],\n",
       "        [3, 6, 7, 8],\n",
       "        [5, 6, 7, 8]]),\n",
       " array([[0, 5, 6, 7, 8]])]"
      ]
     },
     "execution_count": 93,
     "metadata": {},
     "output_type": "execute_result"
    }
   ],
   "source": [
    "D_col.simplices"
   ]
  },
  {
   "cell_type": "code",
   "execution_count": 95,
   "id": "154b4444",
   "metadata": {},
   "outputs": [
    {
     "data": {
      "text/plain": [
       "54"
      ]
     },
     "execution_count": 95,
     "metadata": {},
     "output_type": "execute_result"
    }
   ],
   "source": [
    "len(D_col)"
   ]
  },
  {
   "cell_type": "code",
   "execution_count": 98,
   "id": "f7a97d04",
   "metadata": {},
   "outputs": [
    {
     "data": {
      "text/plain": [
       "2"
      ]
     },
     "execution_count": 98,
     "metadata": {},
     "output_type": "execute_result"
    }
   ],
   "source": [
    "D_col.euler_characteristic"
   ]
  },
  {
   "cell_type": "code",
   "execution_count": 105,
   "id": "af4946c6",
   "metadata": {},
   "outputs": [
    {
     "data": {
      "text/plain": [
       "2"
      ]
     },
     "execution_count": 105,
     "metadata": {},
     "output_type": "execute_result"
    }
   ],
   "source": [
    "D_row.euler_characteristic"
   ]
  },
  {
   "cell_type": "code",
   "execution_count": 101,
   "id": "0205b92d",
   "metadata": {},
   "outputs": [
    {
     "data": {
      "text/plain": [
       "array([3., 1., 0., 0., 0.])"
      ]
     },
     "execution_count": 101,
     "metadata": {},
     "output_type": "execute_result"
    }
   ],
   "source": [
    "D_col.betti()"
   ]
  },
  {
   "cell_type": "code",
   "execution_count": 103,
   "id": "68e9a161",
   "metadata": {},
   "outputs": [
    {
     "data": {
      "text/plain": [
       "array([12, 20, 15,  6,  1])"
      ]
     },
     "execution_count": 103,
     "metadata": {},
     "output_type": "execute_result"
    }
   ],
   "source": [
    "D_col.f_vector"
   ]
  },
  {
   "cell_type": "code",
   "execution_count": 104,
   "id": "261bedba",
   "metadata": {},
   "outputs": [
    {
     "data": {
      "text/plain": [
       "array([ 9, 12,  6,  1])"
      ]
     },
     "execution_count": 104,
     "metadata": {},
     "output_type": "execute_result"
    }
   ],
   "source": [
    "D_row.f_vector"
   ]
  },
  {
   "cell_type": "code",
   "execution_count": 106,
   "id": "b2f57a7f",
   "metadata": {},
   "outputs": [
    {
     "data": {
      "text/plain": [
       "{(0,): 0.5454545454545454,\n",
       " (1,): 0.75,\n",
       " (2,): 0.8571428571428571,\n",
       " (3,): 0.6666666666666666,\n",
       " (4,): 0.8571428571428571,\n",
       " (6,): 0.6666666666666666,\n",
       " (5,): 0.5454545454545454}"
      ]
     },
     "execution_count": 106,
     "metadata": {},
     "output_type": "execute_result"
    }
   ],
   "source": [
    "D_row.simplex_closeness_centrality(p=0, q=1) # node-edge closeness"
   ]
  },
  {
   "cell_type": "code",
   "execution_count": 108,
   "id": "f63fc681",
   "metadata": {},
   "outputs": [
    {
     "data": {
      "text/plain": [
       "10"
      ]
     },
     "execution_count": 108,
     "metadata": {},
     "output_type": "execute_result"
    }
   ],
   "source": [
    "len(D_col.simplex_closeness_centrality(p=0, q=1)) # node-edge closeness"
   ]
  },
  {
   "cell_type": "code",
   "execution_count": 110,
   "id": "4c191ac8",
   "metadata": {},
   "outputs": [
    {
     "data": {
      "text/plain": [
       "array([4., 1., 3., 5., 2., 5., 6., 6., 6., 0., 2., 0.])"
      ]
     },
     "execution_count": 110,
     "metadata": {},
     "output_type": "execute_result"
    }
   ],
   "source": [
    "D_col.simplex_degree(k=1, p=1) # node-edge"
   ]
  },
  {
   "cell_type": "code",
   "execution_count": 111,
   "id": "f86df3d7",
   "metadata": {},
   "outputs": [
    {
     "data": {
      "text/plain": [
       "array([2., 4., 5., 3., 5., 2., 3., 0., 0.])"
      ]
     },
     "execution_count": 111,
     "metadata": {},
     "output_type": "execute_result"
    }
   ],
   "source": [
    "D_row.simplex_degree(k=1, p=1) # node-edge"
   ]
  },
  {
   "cell_type": "code",
   "execution_count": null,
   "id": "ee7450b6",
   "metadata": {},
   "outputs": [],
   "source": []
  }
 ],
 "metadata": {
  "kernelspec": {
   "display_name": "Python 3 (ipykernel)",
   "language": "python",
   "name": "python3"
  },
  "language_info": {
   "codemirror_mode": {
    "name": "ipython",
    "version": 3
   },
   "file_extension": ".py",
   "mimetype": "text/x-python",
   "name": "python",
   "nbconvert_exporter": "python",
   "pygments_lexer": "ipython3",
   "version": "3.10.2"
  }
 },
 "nbformat": 4,
 "nbformat_minor": 5
}
