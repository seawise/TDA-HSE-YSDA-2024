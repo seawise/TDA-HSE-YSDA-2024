{
 "cells": [
  {
   "cell_type": "code",
   "execution_count": null,
   "id": "381f141c",
   "metadata": {},
   "outputs": [],
   "source": [
    "%matplotlib inline\n",
    "import matplotlib.pyplot as plt\n",
    "\n",
    "import numpy as np\n",
    "import pandas as pd\n",
    "\n",
    "from scipy.signal import convolve\n",
    "\n",
    "from sklearn.preprocessing import StandardScaler\n",
    "from gtda.time_series import SingleTakensEmbedding\n",
    "\n",
    "from gtda.homology import VietorisRipsPersistence, WeightedRipsPersistence\n",
    "\n",
    "from sklearn.decomposition import PCA"
   ]
  },
  {
   "cell_type": "code",
   "execution_count": null,
   "id": "aa91b00c",
   "metadata": {},
   "outputs": [],
   "source": [
    "def diagram_reshape(diagram):\n",
    "    zero_idx = np.where(diagram[:,2]==0)\n",
    "    one_idx = np.where(diagram[:,2]==1)\n",
    "    return diagram[zero_idx], diagram[one_idx]"
   ]
  },
  {
   "cell_type": "code",
   "execution_count": null,
   "id": "df229abb",
   "metadata": {},
   "outputs": [],
   "source": [
    "def moving_average(ts, kernel_width=10, mode=\"same\"):\n",
    "    return convolve(ts, np.ones(kernel_width)/kernel_width, mode=mode)"
   ]
  },
  {
   "cell_type": "markdown",
   "id": "da796604",
   "metadata": {},
   "source": [
    "### Data\n",
    "\n",
    "#### Lynx + hare"
   ]
  },
  {
   "cell_type": "code",
   "execution_count": null,
   "id": "ee4097a4",
   "metadata": {},
   "outputs": [],
   "source": [
    "url = \"http://people.whitman.edu/~hundledr/courses/M250F03/LynxHare.txt\""
   ]
  },
  {
   "cell_type": "code",
   "execution_count": null,
   "id": "eb89542d",
   "metadata": {},
   "outputs": [],
   "source": [
    "X = pd.read_csv(url, delim_whitespace=True, header=None, index_col=0).to_numpy()\n",
    "#X = StandardScaler().fit_transform(X)\n",
    "X.shape"
   ]
  },
  {
   "cell_type": "code",
   "execution_count": null,
   "id": "ff876382",
   "metadata": {},
   "outputs": [],
   "source": [
    "X_ma = np.zeros_like(X)\n",
    "X_ma[:,0] = moving_average(X[:,0], kernel_width=12)\n",
    "X_ma[:,1] = moving_average(X[:,1], kernel_width=12)"
   ]
  },
  {
   "cell_type": "code",
   "execution_count": null,
   "id": "e03fe899",
   "metadata": {},
   "outputs": [],
   "source": [
    "te = SingleTakensEmbedding(parameters_type=\"fixed\", time_delay=2, dimension=2)"
   ]
  },
  {
   "cell_type": "code",
   "execution_count": null,
   "id": "ecca4e47",
   "metadata": {},
   "outputs": [],
   "source": [
    "X_detrended = X - X_ma"
   ]
  },
  {
   "cell_type": "code",
   "execution_count": null,
   "id": "1e4abaed",
   "metadata": {},
   "outputs": [],
   "source": [
    "X_delay_hare = te.fit_transform(X_detrended[:,0])\n",
    "X_delay_lynx = te.fit_transform(X_detrended[:,1])\n",
    "\n",
    "X_delay_hare.shape, X_delay_lynx.shape"
   ]
  },
  {
   "cell_type": "code",
   "execution_count": null,
   "id": "83949228",
   "metadata": {
    "scrolled": false
   },
   "outputs": [],
   "source": [
    "for kernel_width in range(2, 12+2):\n",
    "    \n",
    "    X_ma = np.zeros_like(X)\n",
    "    X_ma[:,0] = moving_average(X[:,0], kernel_width)\n",
    "    X_ma[:,1] = moving_average(X[:,1], kernel_width)\n",
    "    \n",
    "    X_detrended = X - X_ma\n",
    "    \n",
    "    X_delay_hare = te.fit_transform(X_detrended[:,0])\n",
    "    X_delay_lynx = te.fit_transform(X_detrended[:,1])\n",
    "\n",
    "    fig, ax = plt.subplots(ncols=4, figsize=(16, 4), dpi=200)\n",
    "    plt.suptitle(\"Kernel width: {}\".format(kernel_width))\n",
    "    ax[0].plot(X_detrended[:,0], c=\"b\", label=\"Hare\")\n",
    "    ax[0].plot(X_detrended[:,1], c=\"r\", label=\"Lynx\")\n",
    "    ax[0].plot(X_ma[:,0], c=\"b\", alpha=0.3, label=\"Hare MA\")\n",
    "    ax[0].plot(X_ma[:,1], c=\"r\", alpha=0.3, label=\"Lynx MA\")\n",
    "    ax[0].set_xlabel(\"Year\")\n",
    "    ax[0].set_ylabel(\"Population, thousands\")\n",
    "    ax[0].legend()\n",
    "    ax[1].plot(X_detrended[:,0], X_detrended[:,1], marker=\"+\", c=\"g\")\n",
    "    ax[1].set_xlabel(\"Hare\")\n",
    "    ax[1].set_ylabel(\"Lynx\")\n",
    "    ax[2].plot(X_delay_hare[:,0], X_delay_hare[:,1], c=\"b\", marker=\"+\")\n",
    "    ax[2].set_xlabel(\"$x_i$\")\n",
    "    ax[2].set_ylabel(\"$x_{i+1}$\")\n",
    "    ax[3].plot(X_delay_lynx[:,0], X_delay_lynx[:,1], c=\"r\", marker=\"+\")\n",
    "    ax[3].set_xlabel(\"$x_i$\")\n",
    "    ax[3].set_ylabel(\"$x_{i+1}$\")\n",
    "    plt.tight_layout()\n",
    "    plt.show()"
   ]
  },
  {
   "cell_type": "code",
   "execution_count": null,
   "id": "52e45d16",
   "metadata": {},
   "outputs": [],
   "source": [
    "vr = VietorisRipsPersistence()\n",
    "dtm = WeightedRipsPersistence(weight_params={\"n_neighbors\": 3, \"r\": 2})"
   ]
  },
  {
   "cell_type": "code",
   "execution_count": null,
   "id": "7ed7b1b6",
   "metadata": {},
   "outputs": [],
   "source": [
    "diagram_vr = diagram_reshape(vr.fit_transform(np.expand_dims(X_delay_hare, 0))[0])\n",
    "diagram_dtm = diagram_reshape(dtm.fit_transform(np.expand_dims(X_delay_hare, 0))[0])"
   ]
  },
  {
   "cell_type": "code",
   "execution_count": null,
   "id": "ab32b455",
   "metadata": {},
   "outputs": [],
   "source": [
    "fig, ax = plt.subplots(ncols=4, figsize=(16, 4), dpi=200)\n",
    "\n",
    "plt.suptitle(\"Kernel width: {}\".format(kernel_width))\n",
    "\n",
    "ax[0].plot(X_detrended[:,0], c=\"b\", label=\"Hare\")\n",
    "ax[0].plot(X_detrended[:,1], c=\"r\", label=\"Lynx\")\n",
    "ax[0].set_xlabel(\"Year\")\n",
    "ax[0].set_ylabel(\"Population, thousands\")\n",
    "ax[0].legend()\n",
    "\n",
    "ax[1].plot(X_delay_hare[:,0], X_delay_hare[:,1], c=\"r\", marker=\"+\")\n",
    "ax[1].set_xlabel(\"$x_i$\")\n",
    "ax[1].set_ylabel(\"$x_{i+1}$\")\n",
    "\n",
    "ax[2].scatter(diagram_vr[0][:,0], diagram_vr[0][:,1], c=\"r\")\n",
    "ax[2].scatter(diagram_vr[1][:,0], diagram_vr[1][:,1], c=\"b\")\n",
    "ax[2].set_xlabel(\"Birth\")\n",
    "ax[2].set_ylabel(\"Death\")\n",
    "\n",
    "ax[3].scatter(diagram_dtm[0][:,0], diagram_dtm[0][:,1], c=\"r\")\n",
    "ax[3].scatter(diagram_dtm[1][:,0], diagram_dtm[1][:,1], c=\"b\")\n",
    "ax[3].set_xlabel(\"Birth\")\n",
    "ax[3].set_ylabel(\"Death\")\n",
    "\n",
    "plt.tight_layout()\n",
    "plt.show()"
   ]
  },
  {
   "cell_type": "markdown",
   "id": "ffbb34a1",
   "metadata": {},
   "source": [
    "#### Indian weather"
   ]
  },
  {
   "cell_type": "code",
   "execution_count": null,
   "id": "90f79898",
   "metadata": {},
   "outputs": [],
   "source": [
    "url = \"data/DailyDelhiClimateTrain.csv\""
   ]
  },
  {
   "cell_type": "code",
   "execution_count": null,
   "id": "7eea301e",
   "metadata": {},
   "outputs": [],
   "source": [
    "cols = [\"meantemp\", \"humidity\"]\n",
    "\n",
    "X = pd.read_csv(url, usecols=cols).to_numpy()\n",
    "X.shape"
   ]
  },
  {
   "cell_type": "code",
   "execution_count": null,
   "id": "09410c37",
   "metadata": {},
   "outputs": [],
   "source": [
    "X_ma = np.zeros_like(X)\n",
    "X_ma[:,0] = moving_average(X[:,0], kernel_width=10)\n",
    "X_ma[:,1] = moving_average(X[:,1], kernel_width=10)"
   ]
  },
  {
   "cell_type": "code",
   "execution_count": null,
   "id": "447b4de9",
   "metadata": {},
   "outputs": [],
   "source": [
    "X_detrended = X"
   ]
  },
  {
   "cell_type": "code",
   "execution_count": null,
   "id": "96110017",
   "metadata": {},
   "outputs": [],
   "source": [
    "te = SingleTakensEmbedding(parameters_type=\"fixed\", time_delay=25, dimension=4)"
   ]
  },
  {
   "cell_type": "code",
   "execution_count": null,
   "id": "8cc6072d",
   "metadata": {},
   "outputs": [],
   "source": [
    "X_delay_temperature = te.fit_transform(X_ma[:,0])\n",
    "X_delay_humidity = te.fit_transform(X_ma[:,1])\n",
    "\n",
    "X_delay_temperature.shape, X_delay_humidity.shape"
   ]
  },
  {
   "cell_type": "code",
   "execution_count": null,
   "id": "54281f5f",
   "metadata": {},
   "outputs": [],
   "source": [
    "fig, ax = plt.subplots(ncols=4, figsize=(16, 4), dpi=200)\n",
    "ax[0].plot(X_ma[:,0], c=\"b\")\n",
    "ax[0].plot(X_ma[:,1], c=\"r\")\n",
    "ax[1].plot(X_ma[:,0], X[:,1], marker=\"+\", c=\"g\", alpha=0.2)\n",
    "ax[2].plot(X_delay_temperature[:,0], X_delay_temperature[:,3], c=\"b\", marker=\"+\", alpha=0.2)\n",
    "ax[3].plot(X_delay_humidity[:,0], X_delay_humidity[:,2], c=\"r\", marker=\"+\", alpha=0.2)\n",
    "plt.tight_layout()\n",
    "plt.show()"
   ]
  },
  {
   "cell_type": "code",
   "execution_count": null,
   "id": "8390ba53",
   "metadata": {},
   "outputs": [],
   "source": [
    "vr = VietorisRipsPersistence()\n",
    "dtm = WeightedRipsPersistence(weight_params={\"n_neighbors\": 10, \"r\": .1})"
   ]
  },
  {
   "cell_type": "code",
   "execution_count": null,
   "id": "43a94b01",
   "metadata": {},
   "outputs": [],
   "source": [
    "diagram_vr = diagram_reshape(vr.fit_transform(np.expand_dims(X_delay_humidity, 0))[0])\n",
    "diagram_dtm = diagram_reshape(dtm.fit_transform(np.expand_dims(X_delay_humidity, 0))[0])"
   ]
  },
  {
   "cell_type": "code",
   "execution_count": null,
   "id": "64620c37",
   "metadata": {},
   "outputs": [],
   "source": [
    "fig, ax = plt.subplots(ncols=4, figsize=(16, 4), dpi=200)\n",
    "\n",
    "plt.suptitle(\"Kernel width: {}\".format(kernel_width))\n",
    "\n",
    "ax[0].plot(X[:,0], c=\"b\", label=\"Hare\")\n",
    "ax[0].plot(X[:,1], c=\"r\", label=\"Lynx\")\n",
    "ax[0].set_xlabel(\"Year\")\n",
    "ax[0].set_ylabel(\"Population, thousands\")\n",
    "ax[0].legend()\n",
    "\n",
    "ax[1].plot(X_delay_humidity[:,0], X_delay_humidity[:,2], c=\"r\", marker=\"+\", alpha=0.2)\n",
    "ax[1].set_xlabel(\"$x_i$\")\n",
    "ax[1].set_ylabel(\"$x_{i+1}$\")\n",
    "\n",
    "ax[2].scatter(diagram_vr[0][:,0], diagram_vr[0][:,1], s=15, c=\"r\")\n",
    "ax[2].scatter(diagram_vr[1][:,0], diagram_vr[1][:,1], s=15, c=\"b\")\n",
    "ax[2].set_xlabel(\"Birth\")\n",
    "ax[2].set_ylabel(\"Death\")\n",
    "\n",
    "ax[3].scatter(diagram_dtm[0][:,0], diagram_dtm[0][:,1], s=15, c=\"r\")\n",
    "ax[3].scatter(diagram_dtm[1][:,0], diagram_dtm[1][:,1], s=15, c=\"b\")\n",
    "ax[3].set_xlabel(\"Birth\")\n",
    "ax[3].set_ylabel(\"Death\")\n",
    "\n",
    "plt.tight_layout()\n",
    "plt.show()"
   ]
  },
  {
   "cell_type": "code",
   "execution_count": null,
   "id": "09a65f46",
   "metadata": {
    "scrolled": false
   },
   "outputs": [],
   "source": [
    "for kernel_width in range(100, 1000+1, 100):\n",
    "    \n",
    "    X_ma = np.zeros_like(X)\n",
    "    X_ma[:,0] = moving_average(X[:,0], kernel_width)\n",
    "    X_ma[:,1] = moving_average(X[:,1], kernel_width)\n",
    "    \n",
    "    X_detrended = X - X_ma\n",
    "    \n",
    "    X_delay_temp = te.fit_transform(X_detrended[:,0])\n",
    "    X_delay_humidity = te.fit_transform(X_detrended[:,1])\n",
    "\n",
    "    fig, ax = plt.subplots(ncols=4, figsize=(16, 4), dpi=200)\n",
    "    plt.suptitle(\"Kernel width: {}\".format(kernel_width))\n",
    "    ax[0].plot(X_detrended[:,0], c=\"b\", label=\"Temp\")\n",
    "    ax[0].plot(X_detrended[:,1], c=\"r\", label=\"Humidity\")\n",
    "    #ax[0].set_xlabel(\"Year\")\n",
    "    #ax[0].set_ylabel(\"Population, thousands\")\n",
    "    ax[0].legend()\n",
    "    ax[1].plot(X_detrended[:,0], X_detrended[:,1], marker=\"+\", c=\"g\")\n",
    "    ax[1].set_xlabel(\"Temp\")\n",
    "    ax[1].set_ylabel(\"Humidity\")\n",
    "    ax[2].plot(X_delay_temp[:,0], X_delay_temp[:,1], c=\"b\", marker=\"+\")\n",
    "    ax[2].set_xlabel(\"$x_i$\")\n",
    "    ax[2].set_ylabel(\"$x_{i+1}$\")\n",
    "    ax[3].plot(X_delay_humidity[:,0], X_delay_humidity[:,1], c=\"r\", marker=\"+\")\n",
    "    ax[3].set_xlabel(\"$x_i$\")\n",
    "    ax[3].set_ylabel(\"$x_{i+1}$\")\n",
    "    plt.tight_layout()\n",
    "    plt.show()"
   ]
  },
  {
   "cell_type": "code",
   "execution_count": null,
   "id": "712e076c",
   "metadata": {},
   "outputs": [],
   "source": []
  }
 ],
 "metadata": {
  "kernelspec": {
   "display_name": "Python 3 (ipykernel)",
   "language": "python",
   "name": "python3"
  },
  "language_info": {
   "codemirror_mode": {
    "name": "ipython",
    "version": 3
   },
   "file_extension": ".py",
   "mimetype": "text/x-python",
   "name": "python",
   "nbconvert_exporter": "python",
   "pygments_lexer": "ipython3",
   "version": "3.10.2"
  }
 },
 "nbformat": 4,
 "nbformat_minor": 5
}
